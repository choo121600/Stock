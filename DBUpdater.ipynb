{
 "cells": [
  {
   "cell_type": "code",
   "execution_count": 1,
   "id": "28db1db4",
   "metadata": {
    "ExecuteTime": {
     "end_time": "2021-06-12T13:11:10.089193Z",
     "start_time": "2021-06-12T13:11:09.562712Z"
    }
   },
   "outputs": [],
   "source": [
    "import pandas as pd\n",
    "from bs4 import BeautifulSoup\n",
    "import pymysql\n",
    "import calendar\n",
    "import time\n",
    "import json\n",
    "import requests\n",
    "from datetime import datetime"
   ]
  },
  {
   "cell_type": "code",
   "execution_count": 2,
   "id": "7112b963",
   "metadata": {
    "ExecuteTime": {
     "end_time": "2021-06-12T13:11:10.105148Z",
     "start_time": "2021-06-12T13:11:10.090188Z"
    }
   },
   "outputs": [],
   "source": [
    "class DBUpdater:\n",
    "    def __init__(self):\n",
    "        self.conn = pymysql.connect(\n",
    "            host='localhost', user='root', password='password', db='analyzer', charset='utf8')\n",
    "\n",
    "        with self.conn.cursor() as curs:\n",
    "            sql = \"\"\"\n",
    "            CREATE TABLE IF NOT EXISTS company_info (\n",
    "                code VARCHAR(20),\n",
    "                company VARCHAR(40),\n",
    "                sector VARCHAR(50),\n",
    "                last_update DATE,\n",
    "                PRIMARY KEY (code)) ENGINE=InnoDB DEFAULT CHARSET=utf8;\n",
    "            \"\"\"\n",
    "            curs.execute(sql)\n",
    "            sql = \"\"\"\n",
    "            CREATE TABLE IF NOT EXISTS daily_price (\n",
    "                code VARCHAR(20),\n",
    "                date DATE,\n",
    "                open BIGINT(20),\n",
    "                high BIGINT(20),\n",
    "                low BIGINT(20),\n",
    "                close BIGINT(20),\n",
    "                diff BIGINT(20),\n",
    "                volume BIGINT(20),\n",
    "                PRIMARY KEY (code, date)) ENGINE=InnoDB DEFAULT CHARSET=utf8;\n",
    "            \"\"\"\n",
    "            curs.execute(sql)\n",
    "        self.conn.commit()\n",
    "        self.codes = dict()\n",
    "\n",
    "    def __del__(self):\n",
    "        self.conn.close()\n",
    "        \n",
    "    def read_krx(self):\n",
    "        url = 'http://kind.krx.co.kr/corpgeneral/corpList.do?method=download&searchType=13'\n",
    "        krx = pd.read_html(url, header=0)[0]\n",
    "        krx = krx[['종목코드', '회사명', '업종']]\n",
    "        krx = krx.rename(columns={'종목코드': 'code', '회사명': 'company', '업종': 'sector'})\n",
    "        krx.code = krx.code.map('{:06d}'.format)\n",
    "        return krx\n",
    "\n",
    "    def update_company_info(self):\n",
    "        sql = \"SELECT * FROM company_info\"\n",
    "        df = pd.read_sql(sql, self.conn)\n",
    "        for idx in range(len(df)):\n",
    "            self.codes[df['code'].values[idx]] = df['company'].values[idx]\n",
    "\n",
    "        with self.conn.cursor() as curs:\n",
    "            sql = \"SELECT max(last_update) FROM company_info\"\n",
    "            curs.execute(sql)\n",
    "            rs = curs.fetchone()\n",
    "            today = datetime.today().strftime('%Y-%m-%d')\n",
    "            if rs[0] == None or rs[0].strftime('%Y-%m-%d') < today:\n",
    "                krx = self.read_krx()\n",
    "                for idx in range(len(krx)):\n",
    "                    code = krx.code.values[idx]\n",
    "                    company = krx.company.values[idx]\n",
    "                    sector = krx.sector.values[idx]\n",
    "                    sql = f\"REPLACE INTO company_info (code, company, sector, last_update) VALUES ('{code}', '{company}', '{sector}', '{today}')\"\n",
    "                    curs.execute(sql)\n",
    "                    self.codes[code] = company\n",
    "                    date_time = datetime.now().strftime('%Y-%m-%d %H:%M')\n",
    "                    print(\n",
    "                        f\"[{date_time}] #{idx+1:04d} REPLACE INTO company_info VALUES ({code}, {company}, {sector}, {today})\")\n",
    "                self.conn.commit()\n",
    "                print('*')\n",
    "        \n",
    "    def execute_daily(self):\n",
    "        self.update_company_info()"
   ]
  },
  {
   "cell_type": "code",
   "execution_count": 3,
   "id": "1564f96d",
   "metadata": {
    "ExecuteTime": {
     "end_time": "2021-06-12T13:11:10.275583Z",
     "start_time": "2021-06-12T13:11:10.106145Z"
    },
    "scrolled": true
   },
   "outputs": [],
   "source": [
    "dbu = DBUpdater()\n",
    "dbu.update_company_info()"
   ]
  },
  {
   "cell_type": "code",
   "execution_count": 4,
   "id": "8cc9cf92",
   "metadata": {
    "ExecuteTime": {
     "end_time": "2021-06-12T13:11:10.366487Z",
     "start_time": "2021-06-12T13:11:10.276581Z"
    }
   },
   "outputs": [],
   "source": [
    "from urllib.request import urlopen\n",
    "\n",
    "url = f\"http://finance.naver.com/item/sise_day.nhn?code=000660\"\n",
    "html = BeautifulSoup(requests.get(url, headers={'User-agent': 'Mozilla/5.0'}).text, \"lxml\")\n",
    "pgrr = html.find(\"td\", class_=\"pgRR\")"
   ]
  },
  {
   "cell_type": "code",
   "execution_count": 5,
   "id": "80567552",
   "metadata": {
    "ExecuteTime": {
     "end_time": "2021-06-12T13:11:10.381448Z",
     "start_time": "2021-06-12T13:11:10.367514Z"
    },
    "scrolled": true
   },
   "outputs": [
    {
     "name": "stdout",
     "output_type": "stream",
     "text": [
      "<td class=\"pgRR\">\n",
      " <a href=\"/item/sise_day.nhn?code=000660&amp;page=613\">\n",
      "  맨뒤\n",
      "  <img alt=\"\" border=\"0\" height=\"5\" src=\"https://ssl.pstatic.net/static/n/cmn/bu_pgarRR.gif\" width=\"8\"/>\n",
      " </a>\n",
      "</td>\n",
      "\n"
     ]
    }
   ],
   "source": [
    "print(pgrr.prettify())"
   ]
  },
  {
   "cell_type": "code",
   "execution_count": 6,
   "id": "64de9180",
   "metadata": {
    "ExecuteTime": {
     "end_time": "2021-06-12T13:11:10.397428Z",
     "start_time": "2021-06-12T13:11:10.382445Z"
    }
   },
   "outputs": [
    {
     "name": "stdout",
     "output_type": "stream",
     "text": [
      "['/item/sise_day.nhn?code', '000660&page', '613']\n"
     ]
    }
   ],
   "source": [
    "s = str(pgrr.a[\"href\"]).split('=')\n",
    "print(s)"
   ]
  },
  {
   "cell_type": "code",
   "execution_count": 7,
   "id": "cf7c4a21",
   "metadata": {
    "ExecuteTime": {
     "end_time": "2021-06-12T13:11:10.412365Z",
     "start_time": "2021-06-12T13:11:10.398402Z"
    }
   },
   "outputs": [
    {
     "data": {
      "text/plain": [
       "'613'"
      ]
     },
     "execution_count": 7,
     "metadata": {},
     "output_type": "execute_result"
    }
   ],
   "source": [
    "last_page = s[-1]\n",
    "last_page"
   ]
  },
  {
   "cell_type": "code",
   "execution_count": 8,
   "id": "42a9139b",
   "metadata": {
    "ExecuteTime": {
     "end_time": "2021-06-12T13:11:58.913579Z",
     "start_time": "2021-06-12T13:11:10.413362Z"
    },
    "scrolled": true
   },
   "outputs": [
    {
     "name": "stdout",
     "output_type": "stream",
     "text": [
      "            날짜        종가      전일비        시가        고가        저가        거래량\n",
      "1   2021.06.11  128000.0   5000.0  124500.0  128500.0  124000.0  4535613.0\n",
      "2   2021.06.10  123000.0    500.0  122500.0  124000.0  120500.0  4533076.0\n",
      "3   2021.06.09  122500.0   5000.0  125500.0  126000.0  122500.0  6087592.0\n",
      "4   2021.06.08  127500.0   1000.0  127000.0  127500.0  125000.0  4194955.0\n",
      "5   2021.06.07  128500.0      0.0  129500.0  130000.0  128000.0  2562918.0\n",
      "..         ...       ...      ...       ...       ...       ...        ...\n",
      "11  1997.01.06   20000.0      0.0   20000.0   20000.0   20000.0   436190.0\n",
      "12  1997.01.04   20000.0      0.0   20000.0   20000.0   20000.0   277690.0\n",
      "13  1997.01.03   20000.0   3000.0   20000.0   20100.0   20000.0   145680.0\n",
      "1   1996.12.27   23000.0      0.0   23000.0   23000.0   23000.0        0.0\n",
      "2   1996.12.26   23000.0  23000.0   23000.0   23000.0   23000.0        0.0\n",
      "\n",
      "[6122 rows x 7 columns]\n"
     ]
    }
   ],
   "source": [
    "df = pd.DataFrame()\n",
    "sise_url = \"http://finance.naver.com/item/sise_day.nhn?code=000660\"\n",
    "\n",
    "for page in range(1, int(last_page) +1):\n",
    "    page_url = '{}&page={}'.format(sise_url, page)\n",
    "    df = df.append(pd.read_html(requests.get(page_url,\n",
    "                    headers={'User-agent': 'Mozilla/5.0'}).text)[0])    \n",
    "    \n",
    "df = df.dropna()\n",
    "print(df)"
   ]
  },
  {
   "cell_type": "code",
   "execution_count": 9,
   "id": "40643c16",
   "metadata": {
    "ExecuteTime": {
     "end_time": "2021-06-12T13:14:56.986273Z",
     "start_time": "2021-06-12T13:14:56.761251Z"
    }
   },
   "outputs": [],
   "source": [
    "from urllib.request import urlopen\n",
    "\n",
    "url = f\"https://finance.naver.com/item/frgn.nhn?code=000660\"\n",
    "html = BeautifulSoup(requests.get(url, headers={'User-agent': 'Mozilla/5.0'}).text, \"lxml\")\n",
    "pgrr = html.find(\"td\", class_=\"pgRR\")"
   ]
  },
  {
   "cell_type": "code",
   "execution_count": 10,
   "id": "2dca81cd",
   "metadata": {
    "ExecuteTime": {
     "end_time": "2021-06-12T13:15:07.764219Z",
     "start_time": "2021-06-12T13:15:07.749260Z"
    }
   },
   "outputs": [
    {
     "name": "stdout",
     "output_type": "stream",
     "text": [
      "<td class=\"pgRR\">\n",
      " <a href=\"/item/frgn.nhn?code=000660&amp;page=204\">\n",
      "  맨뒤\n",
      "  <img alt=\"\" border=\"0\" height=\"5\" src=\"https://ssl.pstatic.net/static/n/cmn/bu_pgarRR.gif\" width=\"8\"/>\n",
      " </a>\n",
      "</td>\n",
      "\n"
     ]
    }
   ],
   "source": [
    "print(pgrr.prettify())"
   ]
  },
  {
   "cell_type": "code",
   "execution_count": 11,
   "id": "b085ac86",
   "metadata": {
    "ExecuteTime": {
     "end_time": "2021-06-12T13:15:26.949115Z",
     "start_time": "2021-06-12T13:15:26.944409Z"
    }
   },
   "outputs": [
    {
     "name": "stdout",
     "output_type": "stream",
     "text": [
      "['/item/frgn.nhn?code', '000660&page', '204']\n"
     ]
    }
   ],
   "source": [
    "s = str(pgrr.a[\"href\"]).split('=')\n",
    "print(s)"
   ]
  },
  {
   "cell_type": "code",
   "execution_count": 15,
   "id": "7891d062",
   "metadata": {
    "ExecuteTime": {
     "end_time": "2021-06-12T14:04:11.332439Z",
     "start_time": "2021-06-12T14:04:11.325297Z"
    }
   },
   "outputs": [
    {
     "data": {
      "text/plain": [
       "'204'"
      ]
     },
     "execution_count": 15,
     "metadata": {},
     "output_type": "execute_result"
    }
   ],
   "source": [
    "last_page = s[-1]\n",
    "last_page"
   ]
  },
  {
   "cell_type": "code",
   "execution_count": 17,
   "id": "dce8d984",
   "metadata": {
    "ExecuteTime": {
     "end_time": "2021-06-12T14:19:03.382139Z",
     "start_time": "2021-06-12T14:18:16.147312Z"
    }
   },
   "outputs": [],
   "source": [
    "df_V = pd.DataFrame()\n",
    "sise_url = \"https://finance.naver.com/item/frgn.nhn?code=000660\"\n",
    "\n",
    "for page in range(1, int(last_page) +1):\n",
    "    page_url = '{}&page={}'.format(sise_url, page)\n",
    "    df_V = df_V.append(pd.read_html(requests.get(page_url,\n",
    "                    headers={'User-agent': 'Mozilla/5.0'}).text)[0])    \n",
    "    \n",
    "df_V = df_V.dropna()"
   ]
  },
  {
   "cell_type": "code",
   "execution_count": 13,
   "id": "b0402618",
   "metadata": {
    "ExecuteTime": {
     "end_time": "2021-06-12T14:02:32.241497Z",
     "start_time": "2021-06-12T14:02:32.218239Z"
    }
   },
   "outputs": [
    {
     "data": {
      "text/html": [
       "<div>\n",
       "<style scoped>\n",
       "    .dataframe tbody tr th:only-of-type {\n",
       "        vertical-align: middle;\n",
       "    }\n",
       "\n",
       "    .dataframe tbody tr th {\n",
       "        vertical-align: top;\n",
       "    }\n",
       "\n",
       "    .dataframe thead th {\n",
       "        text-align: right;\n",
       "    }\n",
       "</style>\n",
       "<table border=\"1\" class=\"dataframe\">\n",
       "  <thead>\n",
       "    <tr style=\"text-align: right;\">\n",
       "      <th></th>\n",
       "      <th>0</th>\n",
       "      <th>1</th>\n",
       "      <th>2</th>\n",
       "    </tr>\n",
       "  </thead>\n",
       "  <tbody>\n",
       "    <tr>\n",
       "      <th>0</th>\n",
       "      <td>전일  123,000  123,000</td>\n",
       "      <td>고가  128,500128,500  (상한가  159,500159,500  )</td>\n",
       "      <td>거래량  4,535,613  4,535,613</td>\n",
       "    </tr>\n",
       "    <tr>\n",
       "      <th>1</th>\n",
       "      <td>시가  124,500124,500</td>\n",
       "      <td>저가  124,000124,000  (하한가  86,500  )</td>\n",
       "      <td>거래대금  574,198  574,198  백만</td>\n",
       "    </tr>\n",
       "    <tr>\n",
       "      <th>0</th>\n",
       "      <td>전일  123,000  123,000</td>\n",
       "      <td>고가  128,500128,500  (상한가  159,500159,500  )</td>\n",
       "      <td>거래량  4,535,613  4,535,613</td>\n",
       "    </tr>\n",
       "    <tr>\n",
       "      <th>1</th>\n",
       "      <td>시가  124,500124,500</td>\n",
       "      <td>저가  124,000124,000  (하한가  86,500  )</td>\n",
       "      <td>거래대금  574,198  574,198  백만</td>\n",
       "    </tr>\n",
       "    <tr>\n",
       "      <th>0</th>\n",
       "      <td>전일  123,000  123,000</td>\n",
       "      <td>고가  128,500128,500  (상한가  159,500159,500  )</td>\n",
       "      <td>거래량  4,535,613  4,535,613</td>\n",
       "    </tr>\n",
       "    <tr>\n",
       "      <th>...</th>\n",
       "      <td>...</td>\n",
       "      <td>...</td>\n",
       "      <td>...</td>\n",
       "    </tr>\n",
       "    <tr>\n",
       "      <th>1</th>\n",
       "      <td>시가  124,500124,500</td>\n",
       "      <td>저가  124,000124,000  (하한가  86,500  )</td>\n",
       "      <td>거래대금  574,198  574,198  백만</td>\n",
       "    </tr>\n",
       "    <tr>\n",
       "      <th>0</th>\n",
       "      <td>전일  123,000  123,000</td>\n",
       "      <td>고가  128,500128,500  (상한가  159,500159,500  )</td>\n",
       "      <td>거래량  4,535,613  4,535,613</td>\n",
       "    </tr>\n",
       "    <tr>\n",
       "      <th>1</th>\n",
       "      <td>시가  124,500124,500</td>\n",
       "      <td>저가  124,000124,000  (하한가  86,500  )</td>\n",
       "      <td>거래대금  574,198  574,198  백만</td>\n",
       "    </tr>\n",
       "    <tr>\n",
       "      <th>0</th>\n",
       "      <td>전일  123,000  123,000</td>\n",
       "      <td>고가  128,500128,500  (상한가  159,500159,500  )</td>\n",
       "      <td>거래량  4,535,613  4,535,613</td>\n",
       "    </tr>\n",
       "    <tr>\n",
       "      <th>1</th>\n",
       "      <td>시가  124,500124,500</td>\n",
       "      <td>저가  124,000124,000  (하한가  86,500  )</td>\n",
       "      <td>거래대금  574,198  574,198  백만</td>\n",
       "    </tr>\n",
       "  </tbody>\n",
       "</table>\n",
       "<p>1226 rows × 3 columns</p>\n",
       "</div>"
      ],
      "text/plain": [
       "                       0                                            1  \\\n",
       "0   전일  123,000  123,000  고가  128,500128,500  (상한가  159,500159,500  )   \n",
       "1     시가  124,500124,500          저가  124,000124,000  (하한가  86,500  )   \n",
       "0   전일  123,000  123,000  고가  128,500128,500  (상한가  159,500159,500  )   \n",
       "1     시가  124,500124,500          저가  124,000124,000  (하한가  86,500  )   \n",
       "0   전일  123,000  123,000  고가  128,500128,500  (상한가  159,500159,500  )   \n",
       "..                   ...                                          ...   \n",
       "1     시가  124,500124,500          저가  124,000124,000  (하한가  86,500  )   \n",
       "0   전일  123,000  123,000  고가  128,500128,500  (상한가  159,500159,500  )   \n",
       "1     시가  124,500124,500          저가  124,000124,000  (하한가  86,500  )   \n",
       "0   전일  123,000  123,000  고가  128,500128,500  (상한가  159,500159,500  )   \n",
       "1     시가  124,500124,500          저가  124,000124,000  (하한가  86,500  )   \n",
       "\n",
       "                             2  \n",
       "0    거래량  4,535,613  4,535,613  \n",
       "1   거래대금  574,198  574,198  백만  \n",
       "0    거래량  4,535,613  4,535,613  \n",
       "1   거래대금  574,198  574,198  백만  \n",
       "0    거래량  4,535,613  4,535,613  \n",
       "..                         ...  \n",
       "1   거래대금  574,198  574,198  백만  \n",
       "0    거래량  4,535,613  4,535,613  \n",
       "1   거래대금  574,198  574,198  백만  \n",
       "0    거래량  4,535,613  4,535,613  \n",
       "1   거래대금  574,198  574,198  백만  \n",
       "\n",
       "[1226 rows x 3 columns]"
      ]
     },
     "execution_count": 13,
     "metadata": {},
     "output_type": "execute_result"
    }
   ],
   "source": [
    "df_V"
   ]
  },
  {
   "cell_type": "code",
   "execution_count": null,
   "id": "ad79b215",
   "metadata": {},
   "outputs": [],
   "source": []
  },
  {
   "cell_type": "code",
   "execution_count": null,
   "id": "b50d0af1",
   "metadata": {},
   "outputs": [],
   "source": []
  },
  {
   "cell_type": "code",
   "execution_count": null,
   "id": "039245e3",
   "metadata": {},
   "outputs": [],
   "source": []
  },
  {
   "cell_type": "code",
   "execution_count": null,
   "id": "0d8ef13f",
   "metadata": {},
   "outputs": [],
   "source": []
  },
  {
   "cell_type": "code",
   "execution_count": null,
   "id": "ff413635",
   "metadata": {},
   "outputs": [],
   "source": []
  },
  {
   "cell_type": "code",
   "execution_count": null,
   "id": "ce8e25a8",
   "metadata": {},
   "outputs": [],
   "source": []
  },
  {
   "cell_type": "code",
   "execution_count": null,
   "id": "950b0f64",
   "metadata": {},
   "outputs": [],
   "source": []
  },
  {
   "cell_type": "code",
   "execution_count": null,
   "id": "5c9c5599",
   "metadata": {},
   "outputs": [],
   "source": []
  },
  {
   "cell_type": "code",
   "execution_count": null,
   "id": "aeb3330f",
   "metadata": {},
   "outputs": [],
   "source": []
  }
 ],
 "metadata": {
  "kernelspec": {
   "display_name": "Python 3",
   "language": "python",
   "name": "python3"
  },
  "language_info": {
   "codemirror_mode": {
    "name": "ipython",
    "version": 3
   },
   "file_extension": ".py",
   "mimetype": "text/x-python",
   "name": "python",
   "nbconvert_exporter": "python",
   "pygments_lexer": "ipython3",
   "version": "3.8.8"
  },
  "toc": {
   "base_numbering": 1,
   "nav_menu": {},
   "number_sections": true,
   "sideBar": true,
   "skip_h1_title": false,
   "title_cell": "Table of Contents",
   "title_sidebar": "Contents",
   "toc_cell": false,
   "toc_position": {},
   "toc_section_display": true,
   "toc_window_display": false
  },
  "varInspector": {
   "cols": {
    "lenName": 16,
    "lenType": 16,
    "lenVar": 40
   },
   "kernels_config": {
    "python": {
     "delete_cmd_postfix": "",
     "delete_cmd_prefix": "del ",
     "library": "var_list.py",
     "varRefreshCmd": "print(var_dic_list())"
    },
    "r": {
     "delete_cmd_postfix": ") ",
     "delete_cmd_prefix": "rm(",
     "library": "var_list.r",
     "varRefreshCmd": "cat(var_dic_list()) "
    }
   },
   "types_to_exclude": [
    "module",
    "function",
    "builtin_function_or_method",
    "instance",
    "_Feature"
   ],
   "window_display": false
  }
 },
 "nbformat": 4,
 "nbformat_minor": 5
}
